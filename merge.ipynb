{
 "cells": [
  {
   "cell_type": "code",
   "execution_count": 5,
   "metadata": {},
   "outputs": [],
   "source": [
    "import pyaudio\n",
    "import speech_recognition as sr\n",
    "import keyboard"
   ]
  },
  {
   "cell_type": "code",
   "execution_count": 6,
   "metadata": {},
   "outputs": [],
   "source": [
    "def transcribe_audio(timeout=10, phrase_time_limit=15, mic_index=None):\n",
    "    recognizer = sr.Recognizer()\n",
    "\n",
    "    # Use selected mic or default\n",
    "    mic = sr.Microphone(device_index=mic_index)\n",
    "\n",
    "    try:\n",
    "        with mic as source:\n",
    "            print(\" Adjusting for ambient noise...\")\n",
    "            recognizer.adjust_for_ambient_noise(source)\n",
    "            print(\"Recording started. Speak now...\")\n",
    "\n",
    "            audio = recognizer.listen(source, timeout=timeout, phrase_time_limit=phrase_time_limit)\n",
    "\n",
    "            print(\"Recording ended. Processing...\")\n",
    "\n",
    "        transcript = recognizer.recognize_google(audio)\n",
    "        print(\" Transcribed Text:\", transcript)\n",
    "\n",
    "        with open(\"transcription.txt\", \"w\") as f:\n",
    "            f.write(transcript + \"\\n\")\n",
    "\n",
    "        print(\" Transcription saved to file.\")\n",
    "        return transcript\n",
    "\n",
    "    except sr.WaitTimeoutError:\n",
    "        print(\" No speech detected. Timeout!\")\n",
    "        return None\n",
    "    except sr.UnknownValueError:\n",
    "        print(\" Couldn't understand audio.\")\n",
    "        return None\n",
    "    except sr.RequestError as e:\n",
    "        print(f\" API error: {e}\")\n",
    "        return None\n",
    "    except Exception as e:\n",
    "        print(f\" Unexpected error: {e}\")\n",
    "        return None\n"
   ]
  },
  {
   "cell_type": "code",
   "execution_count": 7,
   "metadata": {},
   "outputs": [],
   "source": [
    "def main():\n",
    "    print(\"Starting real-time audio detection...\")\n",
    "    while True:\n",
    "        command = input(\"Press Enter to check audio or 'q' to quit: \")\n",
    "        if command.lower() == 'q':\n",
    "            print(\"Exiting...\")\n",
    "            break\n",
    "        transcript = transcribe_audio()"
   ]
  },
  {
   "cell_type": "code",
   "execution_count": 16,
   "metadata": {},
   "outputs": [
    {
     "name": "stdout",
     "output_type": "stream",
     "text": [
      "Starting real-time audio detection...\n",
      " Adjusting for ambient noise...\n",
      "Recording started. Speak now...\n",
      "Recording ended. Processing...\n",
      " Transcribed Text: good morning\n",
      " Transcription saved to file.\n",
      " Adjusting for ambient noise...\n",
      "Recording started. Speak now...\n",
      "Recording ended. Processing...\n",
      " Transcribed Text: hello good morning\n",
      " Transcription saved to file.\n",
      "Exiting...\n"
     ]
    }
   ],
   "source": [
    "if __name__ == \"__main__\":\n",
    "    main()"
   ]
  },
  {
   "cell_type": "code",
   "execution_count": 14,
   "metadata": {},
   "outputs": [
    {
     "name": "stderr",
     "output_type": "stream",
     "text": [
      "WARNING:absl:Compiled the loaded model, but the compiled metrics have yet to be built. `model.compile_metrics` will be empty until you train or evaluate the model.\n"
     ]
    }
   ],
   "source": [
    "import pickle\n",
    "from tensorflow.keras.models import load_model\n",
    "from tensorflow.keras.preprocessing.sequence import pad_sequences\n",
    "\n",
    "# Load the tokenizer\n",
    "with open(\"tokenizer.pkl\", \"rb\") as f:\n",
    "    tokenizer = pickle.load(f)\n",
    "\n",
    "# Load the Keras model\n",
    "model = load_model(\"call_scam_model.h5\")"
   ]
  },
  {
   "cell_type": "code",
   "execution_count": 17,
   "metadata": {},
   "outputs": [
    {
     "name": "stdout",
     "output_type": "stream",
     "text": [
      "\u001b[1m1/1\u001b[0m \u001b[32m━━━━━━━━━━━━━━━━━━━━\u001b[0m\u001b[37m\u001b[0m \u001b[1m0s\u001b[0m 115ms/step\n",
      " Genuine Message.\n"
     ]
    }
   ],
   "source": [
    "with open(\"transcription.txt\", \"r\") as file:\n",
    "    transcribed_text = file.read().strip()\n",
    "sequence = tokenizer.texts_to_sequences([transcribed_text])\n",
    "\n",
    "# Pad the sequence (update maxlen to match your training)\n",
    "padded = pad_sequences(sequence, maxlen=100)\n",
    "\n",
    "# Predict\n",
    "prediction = model.predict(padded)\n",
    "\n",
    "# Output\n",
    "if prediction[0][0] >= 0.5:\n",
    "    print(\"Scam Detected!\")\n",
    "else:\n",
    "    print(\"Genuine Message.\")"
   ]
  }
 ],
 "metadata": {
  "kernelspec": {
   "display_name": "Python 3",
   "language": "python",
   "name": "python3"
  },
  "language_info": {
   "codemirror_mode": {
    "name": "ipython",
    "version": 3
   },
   "file_extension": ".py",
   "mimetype": "text/x-python",
   "name": "python",
   "nbconvert_exporter": "python",
   "pygments_lexer": "ipython3",
   "version": "3.10.16"
  }
 },
 "nbformat": 4,
 "nbformat_minor": 2
}
